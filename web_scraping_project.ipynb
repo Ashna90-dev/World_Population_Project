{
 "cells": [
  {
   "cell_type": "markdown",
   "id": "31a59920-8536-40bd-8344-b2e39c31e8a9",
   "metadata": {},
   "source": [
    "# WEB SCRAPING PROJECT ON WORLD POPULATION"
   ]
  },
  {
   "cell_type": "markdown",
   "id": "ac50b508-9a24-490f-a230-7b5db18853d8",
   "metadata": {},
   "source": [
    "## DataSet Overview"
   ]
  },
  {
   "cell_type": "markdown",
   "id": "c4a65107-b921-4900-b369-cb60ba55e828",
   "metadata": {},
   "source": [
    "The provided dataset appears to be a collection of demographic data for various countries. It includes information on:\n",
    "+ Country: The name of the country.\n",
    "+ Population 2024: The estimated population of the country in the year 2024.\n",
    "+ Yearly Change: The annual percentage change in population.\n",
    "+ Net Change: The absolute change in population (positive or negative) during the year.\n",
    "+ Density: The population density per square kilometer.\n",
    "+ Land Area: The total land area of the country in square kilometers.\n",
    "+ Migrant (net): The net migration (immigration minus emigration) for the country.\n",
    "+ Fertility Rate: The average number of children born per woman.\n",
    "+ Median Age: The median age of the population.\n",
    "+ Urban Population: The percentage of the population living in urban areas.\n",
    "+ World Share: The country's percentage of the global population."
   ]
  },
  {
   "cell_type": "markdown",
   "id": "d9378ed9-1609-4a6b-af4a-97ff53eddeef",
   "metadata": {},
   "source": [
    "## Key Insights\n",
    "\n",
    "Based on the data, we can observe several trends and patterns:\n",
    "\n",
    "+ Population Growth: Countries like India, Pakistan, and Nigeria are experiencing significant population growth, while countries like China, Japan, and + Russia are experiencing population decline or stagnation.\n",
    "+ Population Density: Countries like Bangladesh, India, and the Philippines have high population densities, while countries like Russia, Canada, and + + Australia have low population densities.\n",
    "+ Urbanization: Many countries are undergoing rapid urbanization, with a growing percentage of their populations living in cities.\n",
    "+ Fertility Rates: Countries with higher fertility rates tend to have younger populations, while countries with lower fertility rates tend to have older populations.\n",
    "+ Migration: Net migration can have a significant impact on population growth or decline, as seen in countries like the United States and Canada."
   ]
  },
  {
   "cell_type": "markdown",
   "id": "d2d3d623-32fd-4c6a-9184-bc3ccbc540ca",
   "metadata": {},
   "source": [
    "**Importing library**"
   ]
  },
  {
   "cell_type": "code",
   "execution_count": 56,
   "id": "412e06e1-8460-40eb-b088-c188cd0c3882",
   "metadata": {},
   "outputs": [],
   "source": [
    "import pandas as pd\n",
    "import matplotlib.pyplot as plt\n",
    "import seaborn as sns\n",
    "import requests\n",
    "from bs4 import BeautifulSoup"
   ]
  },
  {
   "cell_type": "markdown",
   "id": "e2601c51-4459-4eb1-8c02-9890dccdb608",
   "metadata": {},
   "source": [
    "## Web Scraping"
   ]
  },
  {
   "cell_type": "code",
   "execution_count": null,
   "id": "8c9abec6-3af1-4cdb-9a7a-610dfa1e58c7",
   "metadata": {},
   "outputs": [],
   "source": [
    "url='https://www.worldometers.info/world-population/population-by-country/'\n",
    "response=requests.get(url)\n",
    "soup=BeautifulSoup(response.text,'html.parser')"
   ]
  },
  {
   "cell_type": "code",
   "execution_count": null,
   "id": "c5ab358e-1022-4e9c-88a8-8d5ca26e4d85",
   "metadata": {},
   "outputs": [],
   "source": [
    "rows=soup.find('table',{'id':'example2'}).find('tbody').find_all('tr')"
   ]
  },
  {
   "cell_type": "code",
   "execution_count": null,
   "id": "ca9a461a-f998-4bc0-a8ea-132cb2ea0e21",
   "metadata": {},
   "outputs": [],
   "source": [
    "countries_list=[]\n",
    "for row in rows:\n",
    "    dic={}\n",
    "    dic['Country']=row.find_all('td')[1].text\n",
    "    dic['Population 2024']=row.find_all('td')[2].text\n",
    "    dic['Yearly Change']=row.find_all('td')[3].text\n",
    "    dic['Net Change']=row.find_all('td')[4].text\n",
    "    dic['Density']=row.find_all('td')[5].text\n",
    "    dic['Land Area']=row.find_all('td')[6].text\n",
    "    dic['Migrant (net)']=row.find_all('td')[7].text\n",
    "    dic['Fertility Rate']=row.find_all('td')[8].text\n",
    "    dic['Median Age']=row.find_all('td')[9].text\n",
    "    dic['Urban Population']=row.find_all('td')[10].text\n",
    "    dic['World Share']=row.find_all('td')[11].text\n",
    "    countries_list.append(dic)"
   ]
  },
  {
   "cell_type": "code",
   "execution_count": null,
   "id": "91a95ce9-8797-45e6-a1a9-b4fde44b208c",
   "metadata": {},
   "outputs": [],
   "source": [
    "df=pd.DataFrame(countries_list)\n",
    "df.to_csv('countries_data.csv',index=False)"
   ]
  },
  {
   "cell_type": "code",
   "execution_count": 11,
   "id": "81f54246-7a4a-4902-a9a5-76173e9eba78",
   "metadata": {},
   "outputs": [],
   "source": [
    "df=pd.read_csv(r'C:\\Users\\pc\\OneDrive\\Documents\\countries_data - Copy.csv')"
   ]
  },
  {
   "cell_type": "code",
   "execution_count": 12,
   "id": "3eac7afc-7f17-468a-b5b8-24c00810cc4b",
   "metadata": {},
   "outputs": [
    {
     "data": {
      "text/html": [
       "<div>\n",
       "<style scoped>\n",
       "    .dataframe tbody tr th:only-of-type {\n",
       "        vertical-align: middle;\n",
       "    }\n",
       "\n",
       "    .dataframe tbody tr th {\n",
       "        vertical-align: top;\n",
       "    }\n",
       "\n",
       "    .dataframe thead th {\n",
       "        text-align: right;\n",
       "    }\n",
       "</style>\n",
       "<table border=\"1\" class=\"dataframe\">\n",
       "  <thead>\n",
       "    <tr style=\"text-align: right;\">\n",
       "      <th></th>\n",
       "      <th>Country</th>\n",
       "      <th>Population 2024</th>\n",
       "      <th>Yearly Change</th>\n",
       "      <th>Net Change</th>\n",
       "      <th>Density</th>\n",
       "      <th>Land Area</th>\n",
       "      <th>Migrant (net)</th>\n",
       "      <th>Fertility Rate</th>\n",
       "      <th>Median Age</th>\n",
       "      <th>Urban Population</th>\n",
       "      <th>World Share</th>\n",
       "    </tr>\n",
       "  </thead>\n",
       "  <tbody>\n",
       "    <tr>\n",
       "      <th>0</th>\n",
       "      <td>India</td>\n",
       "      <td>1,450,935,791</td>\n",
       "      <td>0.89 %</td>\n",
       "      <td>12,866,195</td>\n",
       "      <td>488</td>\n",
       "      <td>2,973,190</td>\n",
       "      <td>-630,830</td>\n",
       "      <td>2.0</td>\n",
       "      <td>28</td>\n",
       "      <td>37 %</td>\n",
       "      <td>17.78 %</td>\n",
       "    </tr>\n",
       "    <tr>\n",
       "      <th>1</th>\n",
       "      <td>China</td>\n",
       "      <td>1,419,321,278</td>\n",
       "      <td>-0.23 %</td>\n",
       "      <td>-3,263,655</td>\n",
       "      <td>151</td>\n",
       "      <td>9,388,211</td>\n",
       "      <td>-318,992</td>\n",
       "      <td>1.0</td>\n",
       "      <td>40</td>\n",
       "      <td>66 %</td>\n",
       "      <td>17.39 %</td>\n",
       "    </tr>\n",
       "    <tr>\n",
       "      <th>2</th>\n",
       "      <td>United States</td>\n",
       "      <td>345,426,571</td>\n",
       "      <td>0.57 %</td>\n",
       "      <td>1,949,236</td>\n",
       "      <td>38</td>\n",
       "      <td>9,147,420</td>\n",
       "      <td>1,286,132</td>\n",
       "      <td>1.6</td>\n",
       "      <td>38</td>\n",
       "      <td>82 %</td>\n",
       "      <td>4.23 %</td>\n",
       "    </tr>\n",
       "    <tr>\n",
       "      <th>3</th>\n",
       "      <td>Indonesia</td>\n",
       "      <td>283,487,931</td>\n",
       "      <td>0.82 %</td>\n",
       "      <td>2,297,864</td>\n",
       "      <td>156</td>\n",
       "      <td>1,811,570</td>\n",
       "      <td>-38,469</td>\n",
       "      <td>2.1</td>\n",
       "      <td>30</td>\n",
       "      <td>59 %</td>\n",
       "      <td>3.47 %</td>\n",
       "    </tr>\n",
       "    <tr>\n",
       "      <th>4</th>\n",
       "      <td>Pakistan</td>\n",
       "      <td>251,269,164</td>\n",
       "      <td>1.52 %</td>\n",
       "      <td>3,764,669</td>\n",
       "      <td>326</td>\n",
       "      <td>770,880</td>\n",
       "      <td>-1,401,173</td>\n",
       "      <td>3.5</td>\n",
       "      <td>20</td>\n",
       "      <td>34 %</td>\n",
       "      <td>3.08 %</td>\n",
       "    </tr>\n",
       "  </tbody>\n",
       "</table>\n",
       "</div>"
      ],
      "text/plain": [
       "         Country Population 2024 Yearly Change  Net Change Density  Land Area  \\\n",
       "0          India   1,450,935,791        0.89 %  12,866,195     488  2,973,190   \n",
       "1          China   1,419,321,278       -0.23 %  -3,263,655     151  9,388,211   \n",
       "2  United States     345,426,571        0.57 %   1,949,236      38  9,147,420   \n",
       "3      Indonesia     283,487,931        0.82 %   2,297,864     156  1,811,570   \n",
       "4       Pakistan     251,269,164        1.52 %   3,764,669     326    770,880   \n",
       "\n",
       "  Migrant (net)  Fertility Rate  Median Age Urban Population World Share  \n",
       "0      -630,830             2.0          28             37 %     17.78 %  \n",
       "1      -318,992             1.0          40             66 %     17.39 %  \n",
       "2     1,286,132             1.6          38             82 %      4.23 %  \n",
       "3       -38,469             2.1          30             59 %      3.47 %  \n",
       "4    -1,401,173             3.5          20             34 %      3.08 %  "
      ]
     },
     "execution_count": 12,
     "metadata": {},
     "output_type": "execute_result"
    }
   ],
   "source": [
    "df.head()"
   ]
  },
  {
   "cell_type": "markdown",
   "id": "07f52590-6099-4e58-b8ea-4377d975fb8d",
   "metadata": {},
   "source": [
    "## **Data Cleaning**"
   ]
  },
  {
   "cell_type": "code",
   "execution_count": 14,
   "id": "73104b47-a264-48b4-8188-88fd57ef074c",
   "metadata": {},
   "outputs": [
    {
     "data": {
      "text/plain": [
       "Country             0\n",
       "Population 2024     0\n",
       "Yearly Change       0\n",
       "Net Change          0\n",
       "Density             0\n",
       "Land Area           0\n",
       "Migrant (net)       0\n",
       "Fertility Rate      0\n",
       "Median Age          0\n",
       "Urban Population    0\n",
       "World Share         0\n",
       "dtype: int64"
      ]
     },
     "execution_count": 14,
     "metadata": {},
     "output_type": "execute_result"
    }
   ],
   "source": [
    "df.isnull().sum()"
   ]
  },
  {
   "cell_type": "code",
   "execution_count": 15,
   "id": "f34ff82d-a67a-44a6-8046-a3da8c0fb893",
   "metadata": {},
   "outputs": [
    {
     "data": {
      "text/plain": [
       "Country              object\n",
       "Population 2024      object\n",
       "Yearly Change        object\n",
       "Net Change           object\n",
       "Density              object\n",
       "Land Area            object\n",
       "Migrant (net)        object\n",
       "Fertility Rate      float64\n",
       "Median Age            int64\n",
       "Urban Population     object\n",
       "World Share          object\n",
       "dtype: object"
      ]
     },
     "execution_count": 15,
     "metadata": {},
     "output_type": "execute_result"
    }
   ],
   "source": [
    "df.dtypes"
   ]
  },
  {
   "cell_type": "code",
   "execution_count": null,
   "id": "27a60c4e-2814-4891-8dff-14eff320f037",
   "metadata": {},
   "outputs": [],
   "source": [
    "# First, replace commas with empty strings to clean up the data\n",
    "df['Population 2024'] = df['Population 2024'].str.replace(',', '')\n",
    "# Now, convert the column to int\n",
    "df['Population 2024'] = df['Population 2024'].astype(int)"
   ]
  },
  {
   "cell_type": "code",
   "execution_count": 52,
   "id": "c13e8724-e4fa-4e15-a644-df77f50d4efc",
   "metadata": {},
   "outputs": [],
   "source": [
    "# Remove commas and convert the 'Density' column to integers\n",
    "df['Density'] = df['Density'].str.replace(',', '').astype(int)"
   ]
  },
  {
   "cell_type": "code",
   "execution_count": 21,
   "id": "4576f5a8-a450-4ef8-93b2-2c324e3d1646",
   "metadata": {},
   "outputs": [
    {
     "data": {
      "text/plain": [
       "Country              object\n",
       "Population 2024       int64\n",
       "Yearly Change        object\n",
       "Net Change           object\n",
       "Density              object\n",
       "Land Area            object\n",
       "Migrant (net)        object\n",
       "Fertility Rate      float64\n",
       "Median Age            int64\n",
       "Urban Population     object\n",
       "World Share          object\n",
       "dtype: object"
      ]
     },
     "execution_count": 21,
     "metadata": {},
     "output_type": "execute_result"
    }
   ],
   "source": [
    "df.dtypes"
   ]
  },
  {
   "cell_type": "markdown",
   "id": "03768bea-2be2-489f-8520-4aaa5175524e",
   "metadata": {},
   "source": [
    "## **Descriptive Statistics**"
   ]
  },
  {
   "cell_type": "code",
   "execution_count": 22,
   "id": "037ad7dd-5edb-4c00-a80e-e1b23c785a22",
   "metadata": {},
   "outputs": [
    {
     "data": {
      "text/html": [
       "<div>\n",
       "<style scoped>\n",
       "    .dataframe tbody tr th:only-of-type {\n",
       "        vertical-align: middle;\n",
       "    }\n",
       "\n",
       "    .dataframe tbody tr th {\n",
       "        vertical-align: top;\n",
       "    }\n",
       "\n",
       "    .dataframe thead th {\n",
       "        text-align: right;\n",
       "    }\n",
       "</style>\n",
       "<table border=\"1\" class=\"dataframe\">\n",
       "  <thead>\n",
       "    <tr style=\"text-align: right;\">\n",
       "      <th></th>\n",
       "      <th>Population 2024</th>\n",
       "      <th>Fertility Rate</th>\n",
       "      <th>Median Age</th>\n",
       "    </tr>\n",
       "  </thead>\n",
       "  <tbody>\n",
       "    <tr>\n",
       "      <th>count</th>\n",
       "      <td>2.340000e+02</td>\n",
       "      <td>234.000000</td>\n",
       "      <td>234.000000</td>\n",
       "    </tr>\n",
       "    <tr>\n",
       "      <th>mean</th>\n",
       "      <td>3.487407e+07</td>\n",
       "      <td>2.332051</td>\n",
       "      <td>31.679487</td>\n",
       "    </tr>\n",
       "    <tr>\n",
       "      <th>std</th>\n",
       "      <td>1.383471e+08</td>\n",
       "      <td>1.163002</td>\n",
       "      <td>9.810427</td>\n",
       "    </tr>\n",
       "    <tr>\n",
       "      <th>min</th>\n",
       "      <td>4.960000e+02</td>\n",
       "      <td>0.700000</td>\n",
       "      <td>14.000000</td>\n",
       "    </tr>\n",
       "    <tr>\n",
       "      <th>25%</th>\n",
       "      <td>4.782600e+05</td>\n",
       "      <td>1.500000</td>\n",
       "      <td>23.000000</td>\n",
       "    </tr>\n",
       "    <tr>\n",
       "      <th>50%</th>\n",
       "      <td>5.615064e+06</td>\n",
       "      <td>2.000000</td>\n",
       "      <td>32.500000</td>\n",
       "    </tr>\n",
       "    <tr>\n",
       "      <th>75%</th>\n",
       "      <td>2.346508e+07</td>\n",
       "      <td>2.975000</td>\n",
       "      <td>40.000000</td>\n",
       "    </tr>\n",
       "    <tr>\n",
       "      <th>max</th>\n",
       "      <td>1.450936e+09</td>\n",
       "      <td>6.000000</td>\n",
       "      <td>59.000000</td>\n",
       "    </tr>\n",
       "  </tbody>\n",
       "</table>\n",
       "</div>"
      ],
      "text/plain": [
       "       Population 2024  Fertility Rate  Median Age\n",
       "count     2.340000e+02      234.000000  234.000000\n",
       "mean      3.487407e+07        2.332051   31.679487\n",
       "std       1.383471e+08        1.163002    9.810427\n",
       "min       4.960000e+02        0.700000   14.000000\n",
       "25%       4.782600e+05        1.500000   23.000000\n",
       "50%       5.615064e+06        2.000000   32.500000\n",
       "75%       2.346508e+07        2.975000   40.000000\n",
       "max       1.450936e+09        6.000000   59.000000"
      ]
     },
     "execution_count": 22,
     "metadata": {},
     "output_type": "execute_result"
    }
   ],
   "source": [
    "df.describe()"
   ]
  },
  {
   "cell_type": "markdown",
   "id": "feae83c0-d76d-45af-bc5f-e36b29a57da4",
   "metadata": {},
   "source": [
    "## **Visualization**"
   ]
  },
  {
   "cell_type": "code",
   "execution_count": 29,
   "id": "cee6d9a7-3021-4355-9f39-20148516c04a",
   "metadata": {},
   "outputs": [
    {
     "data": {
      "image/png": "[encoded data removed]",
      "text/plain": [
       "<Figure size 1000x600 with 1 Axes>"
      ]
     },
     "metadata": {},
     "output_type": "display_data"
    }
   ],
   "source": [
    "plt.figure(figsize=(10,6))\n",
    "sns.histplot(df['Population 2024'], bins=20)\n",
    "plt.title('Population Distribution (2024)')\n",
    "plt.show()"
   ]
  },
  {
   "cell_type": "code",
   "execution_count": 34,
   "id": "b7fb1fe9-ed43-4cf0-9471-98f73eaeab85",
   "metadata": {},
   "outputs": [
    {
     "data": {
      "image/png": "[encoded data removed]",
      "text/plain": [
       "<Figure size 1000x800 with 1 Axes>"
      ]
     },
     "metadata": {},
     "output_type": "display_data"
    }
   ],
   "source": [
    "top_10 = df.nlargest(10, 'Population 2024')\n",
    "plt.figure(figsize=(10,8))\n",
    "sns.barplot(x='Country', y='Yearly Change', data=top_10)\n",
    "plt.title('Top 10 Countries by Yearly Population Change')\n",
    "plt.xticks(rotation=35)\n",
    "plt.show()"
   ]
  },
  {
   "cell_type": "code",
   "execution_count": 37,
   "id": "ea450815-5592-4845-adeb-1c5dc2c97f5a",
   "metadata": {},
   "outputs": [
    {
     "data": {
      "image/png": "[encoded data removed]",
      "text/plain": [
       "<Figure size 900x800 with 2 Axes>"
      ]
     },
     "metadata": {},
     "output_type": "display_data"
    }
   ],
   "source": [
    "# Select only the numeric columns\n",
    "numeric_df = df.select_dtypes(include=['float64', 'int64'])\n",
    "\n",
    "# Create the heatmap\n",
    "plt.figure(figsize=(9,8))\n",
    "sns.heatmap(numeric_df.corr(), annot=True, cmap='coolwarm')\n",
    "plt.title('Correlation Heatmap')\n",
    "plt.show()\n"
   ]
  },
  {
   "cell_type": "code",
   "execution_count": 46,
   "id": "4954cb09-f54b-41e9-8525-c7e0dae5333b",
   "metadata": {},
   "outputs": [
    {
     "data": {
      "image/png": "[encoded data removed]",
      "text/plain": [
       "<Figure size 1200x600 with 1 Axes>"
      ]
     },
     "metadata": {},
     "output_type": "display_data"
    }
   ],
   "source": [
    "plt.figure(figsize=(12,6))\n",
    "sns.scatterplot(x='Urban Population', y='Fertility Rate', data=df)\n",
    "plt.title('Urban Population vs. Fertility Rate')\n",
    "plt.xticks(rotation=90, ha='right')\n",
    "plt.show()"
   ]
  },
  {
   "cell_type": "code",
   "execution_count": 47,
   "id": "d32e1bd4-8b01-4ba7-a63e-a6c2e37a5464",
   "metadata": {},
   "outputs": [
    {
     "data": {
      "text/html": [
       "<div>\n",
       "<style scoped>\n",
       "    .dataframe tbody tr th:only-of-type {\n",
       "        vertical-align: middle;\n",
       "    }\n",
       "\n",
       "    .dataframe tbody tr th {\n",
       "        vertical-align: top;\n",
       "    }\n",
       "\n",
       "    .dataframe thead th {\n",
       "        text-align: right;\n",
       "    }\n",
       "</style>\n",
       "<table border=\"1\" class=\"dataframe\">\n",
       "  <thead>\n",
       "    <tr style=\"text-align: right;\">\n",
       "      <th></th>\n",
       "      <th>Country</th>\n",
       "      <th>Population 2024</th>\n",
       "      <th>Yearly Change</th>\n",
       "      <th>Net Change</th>\n",
       "      <th>Density</th>\n",
       "      <th>Land Area</th>\n",
       "      <th>Migrant (net)</th>\n",
       "      <th>Fertility Rate</th>\n",
       "      <th>Median Age</th>\n",
       "      <th>Urban Population</th>\n",
       "      <th>World Share</th>\n",
       "    </tr>\n",
       "  </thead>\n",
       "  <tbody>\n",
       "    <tr>\n",
       "      <th>0</th>\n",
       "      <td>India</td>\n",
       "      <td>1450935791</td>\n",
       "      <td>0.89 %</td>\n",
       "      <td>12,866,195</td>\n",
       "      <td>488</td>\n",
       "      <td>2,973,190</td>\n",
       "      <td>-630,830</td>\n",
       "      <td>2.0</td>\n",
       "      <td>28</td>\n",
       "      <td>37 %</td>\n",
       "      <td>17.78 %</td>\n",
       "    </tr>\n",
       "    <tr>\n",
       "      <th>1</th>\n",
       "      <td>China</td>\n",
       "      <td>1419321278</td>\n",
       "      <td>-0.23 %</td>\n",
       "      <td>-3,263,655</td>\n",
       "      <td>151</td>\n",
       "      <td>9,388,211</td>\n",
       "      <td>-318,992</td>\n",
       "      <td>1.0</td>\n",
       "      <td>40</td>\n",
       "      <td>66 %</td>\n",
       "      <td>17.39 %</td>\n",
       "    </tr>\n",
       "    <tr>\n",
       "      <th>2</th>\n",
       "      <td>United States</td>\n",
       "      <td>345426571</td>\n",
       "      <td>0.57 %</td>\n",
       "      <td>1,949,236</td>\n",
       "      <td>38</td>\n",
       "      <td>9,147,420</td>\n",
       "      <td>1,286,132</td>\n",
       "      <td>1.6</td>\n",
       "      <td>38</td>\n",
       "      <td>82 %</td>\n",
       "      <td>4.23 %</td>\n",
       "    </tr>\n",
       "    <tr>\n",
       "      <th>3</th>\n",
       "      <td>Indonesia</td>\n",
       "      <td>283487931</td>\n",
       "      <td>0.82 %</td>\n",
       "      <td>2,297,864</td>\n",
       "      <td>156</td>\n",
       "      <td>1,811,570</td>\n",
       "      <td>-38,469</td>\n",
       "      <td>2.1</td>\n",
       "      <td>30</td>\n",
       "      <td>59 %</td>\n",
       "      <td>3.47 %</td>\n",
       "    </tr>\n",
       "    <tr>\n",
       "      <th>4</th>\n",
       "      <td>Pakistan</td>\n",
       "      <td>251269164</td>\n",
       "      <td>1.52 %</td>\n",
       "      <td>3,764,669</td>\n",
       "      <td>326</td>\n",
       "      <td>770,880</td>\n",
       "      <td>-1,401,173</td>\n",
       "      <td>3.5</td>\n",
       "      <td>20</td>\n",
       "      <td>34 %</td>\n",
       "      <td>3.08 %</td>\n",
       "    </tr>\n",
       "  </tbody>\n",
       "</table>\n",
       "</div>"
      ],
      "text/plain": [
       "         Country  Population 2024 Yearly Change  Net Change Density  \\\n",
       "0          India       1450935791        0.89 %  12,866,195     488   \n",
       "1          China       1419321278       -0.23 %  -3,263,655     151   \n",
       "2  United States        345426571        0.57 %   1,949,236      38   \n",
       "3      Indonesia        283487931        0.82 %   2,297,864     156   \n",
       "4       Pakistan        251269164        1.52 %   3,764,669     326   \n",
       "\n",
       "   Land Area Migrant (net)  Fertility Rate  Median Age Urban Population  \\\n",
       "0  2,973,190      -630,830             2.0          28             37 %   \n",
       "1  9,388,211      -318,992             1.0          40             66 %   \n",
       "2  9,147,420     1,286,132             1.6          38             82 %   \n",
       "3  1,811,570       -38,469             2.1          30             59 %   \n",
       "4    770,880    -1,401,173             3.5          20             34 %   \n",
       "\n",
       "  World Share  \n",
       "0     17.78 %  \n",
       "1     17.39 %  \n",
       "2      4.23 %  \n",
       "3      3.47 %  \n",
       "4      3.08 %  "
      ]
     },
     "execution_count": 47,
     "metadata": {},
     "output_type": "execute_result"
    }
   ],
   "source": [
    "df.nlargest(5, 'Population 2024')"
   ]
  },
  {
   "cell_type": "code",
   "execution_count": 53,
   "id": "eaddfff8-906f-4633-b8a9-f9f6e05f9a48",
   "metadata": {},
   "outputs": [],
   "source": [
    "highest_density = df.nlargest(5, 'Density')\n",
    "lowest_density = df.nsmallest(5, 'Density')"
   ]
  },
  {
   "cell_type": "code",
   "execution_count": 54,
   "id": "1d5ea9f2-7e41-41f5-8514-ee166680da30",
   "metadata": {},
   "outputs": [
    {
     "data": {
      "text/html": [
       "<div>\n",
       "<style scoped>\n",
       "    .dataframe tbody tr th:only-of-type {\n",
       "        vertical-align: middle;\n",
       "    }\n",
       "\n",
       "    .dataframe tbody tr th {\n",
       "        vertical-align: top;\n",
       "    }\n",
       "\n",
       "    .dataframe thead th {\n",
       "        text-align: right;\n",
       "    }\n",
       "</style>\n",
       "<table border=\"1\" class=\"dataframe\">\n",
       "  <thead>\n",
       "    <tr style=\"text-align: right;\">\n",
       "      <th></th>\n",
       "      <th>Country</th>\n",
       "      <th>Population 2024</th>\n",
       "      <th>Yearly Change</th>\n",
       "      <th>Net Change</th>\n",
       "      <th>Density</th>\n",
       "      <th>Land Area</th>\n",
       "      <th>Migrant (net)</th>\n",
       "      <th>Fertility Rate</th>\n",
       "      <th>Median Age</th>\n",
       "      <th>Urban Population</th>\n",
       "      <th>World Share</th>\n",
       "    </tr>\n",
       "  </thead>\n",
       "  <tbody>\n",
       "    <tr>\n",
       "      <th>215</th>\n",
       "      <td>Monaco</td>\n",
       "      <td>38631</td>\n",
       "      <td>-0.83 %</td>\n",
       "      <td>-325</td>\n",
       "      <td>25927</td>\n",
       "      <td>1</td>\n",
       "      <td>110</td>\n",
       "      <td>2.1</td>\n",
       "      <td>54</td>\n",
       "      <td>N.A.</td>\n",
       "      <td>0.00 %</td>\n",
       "    </tr>\n",
       "    <tr>\n",
       "      <th>166</th>\n",
       "      <td>Macao</td>\n",
       "      <td>720262</td>\n",
       "      <td>0.89 %</td>\n",
       "      <td>6,350</td>\n",
       "      <td>24009</td>\n",
       "      <td>30</td>\n",
       "      <td>1,620</td>\n",
       "      <td>0.7</td>\n",
       "      <td>39</td>\n",
       "      <td>96 %</td>\n",
       "      <td>0.01 %</td>\n",
       "    </tr>\n",
       "    <tr>\n",
       "      <th>114</th>\n",
       "      <td>Singapore</td>\n",
       "      <td>5832387</td>\n",
       "      <td>0.75 %</td>\n",
       "      <td>43,297</td>\n",
       "      <td>8332</td>\n",
       "      <td>700</td>\n",
       "      <td>20,011</td>\n",
       "      <td>1.0</td>\n",
       "      <td>36</td>\n",
       "      <td>N.A.</td>\n",
       "      <td>0.07 %</td>\n",
       "    </tr>\n",
       "    <tr>\n",
       "      <th>104</th>\n",
       "      <td>Hong Kong</td>\n",
       "      <td>7414909</td>\n",
       "      <td>-0.37 %</td>\n",
       "      <td>-27,825</td>\n",
       "      <td>7062</td>\n",
       "      <td>1,050</td>\n",
       "      <td>-19,272</td>\n",
       "      <td>0.7</td>\n",
       "      <td>47</td>\n",
       "      <td>N.A.</td>\n",
       "      <td>0.09 %</td>\n",
       "    </tr>\n",
       "    <tr>\n",
       "      <th>214</th>\n",
       "      <td>Gibraltar</td>\n",
       "      <td>39329</td>\n",
       "      <td>2.23 %</td>\n",
       "      <td>858</td>\n",
       "      <td>3933</td>\n",
       "      <td>10</td>\n",
       "      <td>598</td>\n",
       "      <td>1.9</td>\n",
       "      <td>39</td>\n",
       "      <td>90 %</td>\n",
       "      <td>0.00 %</td>\n",
       "    </tr>\n",
       "  </tbody>\n",
       "</table>\n",
       "</div>"
      ],
      "text/plain": [
       "       Country  Population 2024 Yearly Change Net Change  Density Land Area  \\\n",
       "215     Monaco            38631       -0.83 %       -325    25927         1   \n",
       "166      Macao           720262        0.89 %      6,350    24009        30   \n",
       "114  Singapore          5832387        0.75 %     43,297     8332       700   \n",
       "104  Hong Kong          7414909       -0.37 %    -27,825     7062     1,050   \n",
       "214  Gibraltar            39329        2.23 %        858     3933        10   \n",
       "\n",
       "    Migrant (net)  Fertility Rate  Median Age Urban Population World Share  \n",
       "215           110             2.1          54             N.A.      0.00 %  \n",
       "166         1,620             0.7          39             96 %      0.01 %  \n",
       "114        20,011             1.0          36             N.A.      0.07 %  \n",
       "104       -19,272             0.7          47             N.A.      0.09 %  \n",
       "214           598             1.9          39             90 %      0.00 %  "
      ]
     },
     "execution_count": 54,
     "metadata": {},
     "output_type": "execute_result"
    }
   ],
   "source": [
    "highest_density"
   ]
  },
  {
   "cell_type": "code",
   "execution_count": 55,
   "id": "dd40254d-04a3-40c5-aab5-825bcc51e153",
   "metadata": {},
   "outputs": [
    {
     "data": {
      "text/html": [
       "<div>\n",
       "<style scoped>\n",
       "    .dataframe tbody tr th:only-of-type {\n",
       "        vertical-align: middle;\n",
       "    }\n",
       "\n",
       "    .dataframe tbody tr th {\n",
       "        vertical-align: top;\n",
       "    }\n",
       "\n",
       "    .dataframe thead th {\n",
       "        text-align: right;\n",
       "    }\n",
       "</style>\n",
       "<table border=\"1\" class=\"dataframe\">\n",
       "  <thead>\n",
       "    <tr style=\"text-align: right;\">\n",
       "      <th></th>\n",
       "      <th>Country</th>\n",
       "      <th>Population 2024</th>\n",
       "      <th>Yearly Change</th>\n",
       "      <th>Net Change</th>\n",
       "      <th>Density</th>\n",
       "      <th>Land Area</th>\n",
       "      <th>Migrant (net)</th>\n",
       "      <th>Fertility Rate</th>\n",
       "      <th>Median Age</th>\n",
       "      <th>Urban Population</th>\n",
       "      <th>World Share</th>\n",
       "    </tr>\n",
       "  </thead>\n",
       "  <tbody>\n",
       "    <tr>\n",
       "      <th>205</th>\n",
       "      <td>Greenland</td>\n",
       "      <td>55840</td>\n",
       "      <td>-0.15 %</td>\n",
       "      <td>-82</td>\n",
       "      <td>0</td>\n",
       "      <td>410,450</td>\n",
       "      <td>-284</td>\n",
       "      <td>1.9</td>\n",
       "      <td>35</td>\n",
       "      <td>90 %</td>\n",
       "      <td>0.00 %</td>\n",
       "    </tr>\n",
       "    <tr>\n",
       "      <th>230</th>\n",
       "      <td>Falkland Islands</td>\n",
       "      <td>3470</td>\n",
       "      <td>-0.20 %</td>\n",
       "      <td>-7</td>\n",
       "      <td>0</td>\n",
       "      <td>12,170</td>\n",
       "      <td>-13</td>\n",
       "      <td>1.7</td>\n",
       "      <td>42</td>\n",
       "      <td>68 %</td>\n",
       "      <td>0.00 %</td>\n",
       "    </tr>\n",
       "    <tr>\n",
       "      <th>132</th>\n",
       "      <td>Mongolia</td>\n",
       "      <td>3475540</td>\n",
       "      <td>1.27 %</td>\n",
       "      <td>43,608</td>\n",
       "      <td>2</td>\n",
       "      <td>1,553,560</td>\n",
       "      <td>83</td>\n",
       "      <td>2.6</td>\n",
       "      <td>27</td>\n",
       "      <td>67 %</td>\n",
       "      <td>0.04 %</td>\n",
       "    </tr>\n",
       "    <tr>\n",
       "      <th>170</th>\n",
       "      <td>Western Sahara</td>\n",
       "      <td>590506</td>\n",
       "      <td>1.86 %</td>\n",
       "      <td>10,777</td>\n",
       "      <td>2</td>\n",
       "      <td>266,000</td>\n",
       "      <td>5,358</td>\n",
       "      <td>2.2</td>\n",
       "      <td>32</td>\n",
       "      <td>97 %</td>\n",
       "      <td>0.01 %</td>\n",
       "    </tr>\n",
       "    <tr>\n",
       "      <th>54</th>\n",
       "      <td>Australia</td>\n",
       "      <td>26713205</td>\n",
       "      <td>0.99 %</td>\n",
       "      <td>262,081</td>\n",
       "      <td>3</td>\n",
       "      <td>7,682,300</td>\n",
       "      <td>138,510</td>\n",
       "      <td>1.6</td>\n",
       "      <td>38</td>\n",
       "      <td>86 %</td>\n",
       "      <td>0.33 %</td>\n",
       "    </tr>\n",
       "  </tbody>\n",
       "</table>\n",
       "</div>"
      ],
      "text/plain": [
       "              Country  Population 2024 Yearly Change Net Change  Density  \\\n",
       "205         Greenland            55840       -0.15 %        -82        0   \n",
       "230  Falkland Islands             3470       -0.20 %         -7        0   \n",
       "132          Mongolia          3475540        1.27 %     43,608        2   \n",
       "170    Western Sahara           590506        1.86 %     10,777        2   \n",
       "54          Australia         26713205        0.99 %    262,081        3   \n",
       "\n",
       "     Land Area Migrant (net)  Fertility Rate  Median Age Urban Population  \\\n",
       "205    410,450          -284             1.9          35             90 %   \n",
       "230     12,170           -13             1.7          42             68 %   \n",
       "132  1,553,560            83             2.6          27             67 %   \n",
       "170    266,000         5,358             2.2          32             97 %   \n",
       "54   7,682,300       138,510             1.6          38             86 %   \n",
       "\n",
       "    World Share  \n",
       "205      0.00 %  \n",
       "230      0.00 %  \n",
       "132      0.04 %  \n",
       "170      0.01 %  \n",
       "54       0.33 %  "
      ]
     },
     "execution_count": 55,
     "metadata": {},
     "output_type": "execute_result"
    }
   ],
   "source": [
    "lowest_density"
   ]
  },
  {
   "cell_type": "markdown",
   "id": "ab2984e4-4452-49bf-88d5-ec2ecda6fbb8",
   "metadata": {},
   "source": [
    "## Insights"
   ]
  },
  {
   "cell_type": "markdown",
   "id": "c4df20dd-d280-4b41-8744-4366e1d473ae",
   "metadata": {},
   "source": [
    "**After the visualizations and descriptive analysis, you can derive insights such as:**\n",
    "+ **Which countries have the highest population growth?**\n",
    "+ **How does fertility rate relate to the median age of the population?**\n",
    "+ **What are the migration trends for the top 5 most populated countries?**\n",
    "\n",
    "**This analysis will give you a good starting point for understanding the global population trends in 2024.**"
   ]
  },
  {
   "cell_type": "code",
   "execution_count": null,
   "id": "7855a3de-daac-4960-966c-f6e8847501b1",
   "metadata": {},
   "outputs": [],
   "source": []
  }
 ],
 "metadata": {
  "kernelspec": {
   "display_name": "Python 3 (ipykernel)",
   "language": "python",
   "name": "python3"
  },
  "language_info": {
   "codemirror_mode": {
    "name": "ipython",
    "version": 3
   },
   "file_extension": ".py",
   "mimetype": "text/x-python",
   "name": "python",
   "nbconvert_exporter": "python",
   "pygments_lexer": "ipython3",
   "version": "3.12.5"
  }
 },
 "nbformat": 4,
 "nbformat_minor": 5
}
